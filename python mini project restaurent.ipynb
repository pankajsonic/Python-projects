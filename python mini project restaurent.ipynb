{
 "cells": [
  {
   "cell_type": "code",
   "execution_count": 2,
   "id": "060c021a-f5c9-404a-8a2e-a0496bf4c687",
   "metadata": {},
   "outputs": [
    {
     "name": "stdout",
     "output_type": "stream",
     "text": [
      "WELCOME TO OUR RESTAURENT, HAVE A GREAT DAY\n",
      "PAASTA : 90\n",
      "NOODLES : 50\n",
      "DHOSA : 100\n",
      "BURGER : 60\n",
      "BURGER : 60\n"
     ]
    },
    {
     "name": "stdin",
     "output_type": "stream",
     "text": [
      "your order : BURGER\n"
     ]
    },
    {
     "name": "stdout",
     "output_type": "stream",
     "text": [
      "your order is BURGER\n"
     ]
    },
    {
     "name": "stdin",
     "output_type": "stream",
     "text": [
      "DO YOU WANT TO ADD SOME ANOTHER ORDER (YES/NO) YES\n",
      "SO WHATS YOUR SECOND ITEM: RICE\n"
     ]
    },
    {
     "name": "stdout",
     "output_type": "stream",
     "text": [
      " RICE is not available\n"
     ]
    }
   ],
   "source": [
    "a = \"WELCOME TO OUR RESTAURENT, HAVE A GREAT DAY\"\n",
    "MENU = { 'PAASTA' : 90, 'NOODLES' : 50, 'DHOSA' : 100, 'BURGER' : 60}\n",
    "print(a)\n",
    "print(\"PAASTA : 90\\nNOODLES : 50\\nDHOSA : 100\\nBURGER : 60\\nBURGER : 60\")\n",
    "total_order = 0\n",
    "item1 = input(\"your order :\" )\n",
    "if item1 in MENU:\n",
    "    total_order += MENU[item1]\n",
    "    print(f\"your order is {item1}\")\n",
    "else:\n",
    "    print(\"PLEASE SELECT THE ORDER WHICH WE CAN SERVE\")\n",
    "\n",
    "ANOTHER = input(\"DO YOU WANT TO ADD SOME ANOTHER ORDER (YES/NO)\")\n",
    "if ANOTHER==\"YES\":\n",
    "    item2 = input(\"SO WHATS YOUR SECOND ITEM:\")\n",
    "    if item2 in MENU:\n",
    "                   total_order += MENU[item2]\n",
    "                   print(f\" YOUR ORDER HAVE BEEN RECEIVED THE TOTAL AMOUT IS{total_order}\")\n",
    "    else:\n",
    "        print(f\" {item2} is not available\")\n",
    "\n",
    "    \n",
    "                  \n",
    "\n",
    "    \n",
    "    \n",
    "\n"
   ]
  },
  {
   "cell_type": "code",
   "execution_count": null,
   "id": "192e60ff-e568-4a1d-876d-e2dee51f493f",
   "metadata": {},
   "outputs": [],
   "source": []
  }
 ],
 "metadata": {
  "kernelspec": {
   "display_name": "Python 3 (ipykernel)",
   "language": "python",
   "name": "python3"
  },
  "language_info": {
   "codemirror_mode": {
    "name": "ipython",
    "version": 3
   },
   "file_extension": ".py",
   "mimetype": "text/x-python",
   "name": "python",
   "nbconvert_exporter": "python",
   "pygments_lexer": "ipython3",
   "version": "3.11.7"
  }
 },
 "nbformat": 4,
 "nbformat_minor": 5
}
