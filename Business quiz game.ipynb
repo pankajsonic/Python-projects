{
 "cells": [
  {
   "cell_type": "code",
   "execution_count": null,
   "id": "fe1f6964-bf7e-4d6c-bb37-c5cf2ce9b77f",
   "metadata": {},
   "outputs": [
    {
     "name": "stdout",
     "output_type": "stream",
     "text": [
      "Welcome to the business world\n"
     ]
    }
   ],
   "source": [
    "print(\"Welcome to the business world\")\n",
    "\n",
    "ans = input(\"Do you want to play the business game? yes/no \")\n",
    "if ans.lower() == \"yes\":\n",
    "    print(\"Ok lets start the game\")\n",
    "else :\n",
    "    input(\"Are your sure you want to quit? yes/no\")\n",
    "    if \"yes\":\n",
    "        print(\"quit\")\n",
    "\n",
    "score = 0\n",
    "answer = input(\" 1. People in an organization that make decisions and interpret policies are called:   \")\n",
    "if answer.lower() == \"management\":\n",
    "    print(\"correct!\")\n",
    "    answer = score + 1\n",
    "else:\n",
    "    print(\"incorrect :( \")\n",
    "\n",
    "answer = input(\" 2. An amount of money charged for the use of borrowed money or credit:   \")\n",
    "if answer.lower() == \"loan\":\n",
    "    print(\"correct!\")\n",
    "    answer = score + 1\n",
    "else:\n",
    "    print(\"incorrect :( \")\n",
    "\n",
    "answer = input(\" 3. What term means all of the following: planning, designing, selling, promoting, and servicing of products?   \")\n",
    "if answer.lower() == \"marketing\":\n",
    "    print(\"correct!\")\n",
    "    score = score + 1\n",
    "else:\n",
    "    print(\"incorrect :( \")\n",
    "\n",
    "answer = input(\" 4. Which economic system allows the means for production and distribution to be privately owned?   \")\n",
    "if answer.lower() == \"capitalism\":\n",
    "    print(\"correct!\")\n",
    "    score = score + 1\n",
    "else:\n",
    "    print(\"incorrect :( \")\n",
    "\n",
    "answer = input(\" 5. What do you call a statement that is attached to a product giving information about its contents?   \")\n",
    "if answer.lower() == \"label\":\n",
    "    print(\"correct!\")\n",
    "    score = score + 1\n",
    "else:\n",
    "    print(\"incorrect :( \")\n",
    "\n",
    "answer = input(\" 6. A salesperson who meets the customers face to face and persuades them to buy, is involved in what type of selling?\")\n",
    "if answer.lower() == \"person selling\":\n",
    "    print(\"correct!\")\n",
    "    score = score + 1\n",
    "else:\n",
    "    print(\"incorrect :( \")\n",
    "\n",
    "print(\"Your final score = \" + str((score/4)*100) + \"%\")\n",
    "\n",
    "\n",
    "\n",
    "\n",
    "\n",
    "\n",
    "\n",
    "\n",
    "\n"
   ]
  },
  {
   "cell_type": "code",
   "execution_count": null,
   "id": "1076f608-5560-4aa0-8150-cfca4ed371f6",
   "metadata": {},
   "outputs": [],
   "source": []
  }
 ],
 "metadata": {
  "kernelspec": {
   "display_name": "Python 3 (ipykernel)",
   "language": "python",
   "name": "python3"
  },
  "language_info": {
   "codemirror_mode": {
    "name": "ipython",
    "version": 3
   },
   "file_extension": ".py",
   "mimetype": "text/x-python",
   "name": "python",
   "nbconvert_exporter": "python",
   "pygments_lexer": "ipython3",
   "version": "3.11.7"
  }
 },
 "nbformat": 4,
 "nbformat_minor": 5
}
